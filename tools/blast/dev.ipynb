{
 "cells": [
  {
   "cell_type": "code",
   "execution_count": 1,
   "id": "f1b3d18f",
   "metadata": {},
   "outputs": [
    {
     "data": {
      "text/plain": [
       "{'name': 'BLASTp',\n",
       " 'version': 'blastp: 2.16.0+\\n Package: blast 2.16.0, build Mar 28 2025 16:33:14',\n",
       " 'description': 'BLASTp is a protein-protein sequence alignment tool that uses a database of protein sequences to search for similar sequences in a query protein sequence.',\n",
       " 'input_format': 'FASTA'}"
      ]
     },
     "execution_count": 1,
     "metadata": {},
     "output_type": "execute_result"
    }
   ],
   "source": [
    "import app\n",
    "\n",
    "import logging\n",
    "\n",
    "logging.basicConfig(level=logging.INFO)\n",
    "logger = logging.getLogger(__name__)\n",
    "from api import blast_service\n",
    "from pathlib import Path\n",
    "\n",
    "blastp_service = blast_service.BLASTpService('/Users/dylanskola/workspace/bioinformatics_wrappers/tools/blast/blast_db', mm_env='blast')\n",
    "blastp_service.get_tool_info()\n"
   ]
  },
  {
   "cell_type": "code",
   "execution_count": 2,
   "id": "ac8730dd",
   "metadata": {},
   "outputs": [
    {
     "name": "stderr",
     "output_type": "stream",
     "text": [
      "INFO:api.blast_service:New BLASTp search requested\n",
      "INFO:api.blast_service:Validated protein FASTA file: test_data/test_protein.fasta\n",
      "INFO:api.blast_service:DB name: swissprot\n",
      "INFO:api.blast_service:E-value: 0.001\n",
      "INFO:api.blast_service:Output path: blast_output/blastp_output.txt\n",
      "INFO:api.blast_service:DB path: /Users/dylanskola/workspace/bioinformatics_wrappers/tools/blast/blast_db/swissprot\n",
      "INFO:api.blast_service:New db swissprot requested, running update_blastdb.pl\n",
      "INFO:api.blast_service:Downloading BLAST database (if not already downloaded): swissprot\n",
      "INFO:api.blast_service:Moving to BLAST database path: /Users/dylanskola/workspace/bioinformatics_wrappers/tools/blast/blast_db\n",
      "INFO:api.blast_service:Running update_blastdb.pl with command: ['micromamba', 'run', '-n', 'blast', 'update_blastdb.pl', '--decompress', '--verbose', 'swissprot']\n",
      "INFO:api.blast_service:Output: CompletedProcess(args=['micromamba', 'run', '-n', 'blast', 'update_blastdb.pl', '--decompress', '--verbose', 'swissprot'], returncode=0, stdout='The contents of https://ftp.ncbi.nlm.nih.gov/blast/db/swissprot.tar.gz are up to date in your system.\\n', stderr='')\n",
      "INFO:api.blast_service:Running BLASTp search with command: ['micromamba', 'run', '-n', 'blast', 'blastp', '-query', 'test_data/test_protein.fasta', '-db', '/Users/dylanskola/workspace/bioinformatics_wrappers/tools/blast/blast_db/swissprot', '-evalue', '0.001', '-outfmt', '6 qseqid sseqid pident length evalue bitscore sscinames', '-max_target_seqs', '20', '-out', 'blast_output/blastp_output.txt']\n",
      "INFO:api.blast_service:BLASTp response: CompletedProcess(args=['micromamba', 'run', '-n', 'blast', 'blastp', '-query', 'test_data/test_protein.fasta', '-db', '/Users/dylanskola/workspace/bioinformatics_wrappers/tools/blast/blast_db/swissprot', '-evalue', '0.001', '-outfmt', '6 qseqid sseqid pident length evalue bitscore sscinames', '-max_target_seqs', '20', '-out', 'blast_output/blastp_output.txt'], returncode=0, stdout='', stderr='Warning: [blastp] Taxonomy name lookup from taxid requires installation of taxdb database with ftp://ftp.ncbi.nlm.nih.gov/blast/db/taxdb.tar.gz\\n')\n",
      "INFO:api.blast_service:BLASTp output file content: microprotein_1\tsp|G3V7X8.1|\t100.000\t108\t1.90e-71\t223\tN/A\n",
      "microprotein_1\tsp|Q811W2.1|\t100.000\t108\t2.24e-71\t223\tN/A\n",
      "microprotein_1\tsp|Q9NR63.1|\t100.000\t108\t3.36e-71\t223\tN/A\n",
      "microprotein_1\tsp|E1BHJ4.1|\t98.148\t108\t4.32e-70\t220\tN/A\n",
      "microprotein_1\tsp|Q08D50.1|\t83.333\t108\t6.70e-59\t191\tN/A\n",
      "microprotein_1\tsp|Q6EIG3.1|\t75.000\t108\t1.34e-52\t174\tN/A\n",
      "microprotein_1\tsp|Q6V0L0.2|\t57.647\t85\t1.29e-24\t99.4\tN/A\n",
      "microprotein_1\tsp|B2RXA7.1|\t51.724\t87\t2.23e-23\t95.9\tN/A\n",
      "microprotein_1\tsp|Q9PUB4.1|\t42.697\t89\t7.89e-18\t80.5\tN/A\n",
      "microprotein_1\tsp|O93323.1|\t45.349\t86\t1.17e-16\t77.0\tN/A\n",
      "microprotein_1\tsp|O43174.2|\t40.698\t86\t2.33e-15\t73.2\tN/A\n",
      "microprotein_1\tsp|O55127.1|\t40.698\t86\t1.31e-14\t71.2\tN/A\n",
      "microprotein_1\tsp|P79739.1|\t41.860\t86\t1.10e-13\t68.6\tN/A\n",
      "microprotein_1\tsp|Q59990.1|\t34.831\t89\t5.43e-10\t58.2\tN/A\n",
      "microprotein_1\tsp|Q9SAA9.1|\t40.244\t82\t6.69e-10\t57.8\tN/A\n",
      "microprotein_1\tsp|Q2MJ21.1|\t34.568\t81\t9.28e-10\t57.4\tN/A\n",
      "microprotein_1\tsp|P93596.1|\t43.077\t65\t1.07e-09\t57.0\tN/A\n",
      "microprotein_1\tsp|P93846.1|\t41.538\t65\t3.93e-09\t55.5\tN/A\n",
      "microprotein_1\tsp|Q2MJ19.1|\t33.333\t81\t9.49e-09\t54.3\tN/A\n",
      "microprotein_1\tsp|A0A517FNC9.1|\t33.333\t81\t1.79e-08\t53.5\tN/A\n",
      "\n"
     ]
    },
    {
     "name": "stdout",
     "output_type": "stream",
     "text": [
      "True Search completed successfully report='rank\\tid\\tidentity%\\talign_len\\te-value\\tbitscore\\torganism\\n1\\tmicroprotein_1\\tsp|G3V7X8.1|\\t100.000\\t108\\t1.90e-71\\t223\\tN/A\\n2\\tmicroprotein_1\\tsp|Q811W2.1|\\t100.000\\t108\\t2.24e-71\\t223\\tN/A\\n3\\tmicroprotein_1\\tsp|Q9NR63.1|\\t100.000\\t108\\t3.36e-71\\t223\\tN/A\\n4\\tmicroprotein_1\\tsp|E1BHJ4.1|\\t98.148\\t108\\t4.32e-70\\t220\\tN/A\\n5\\tmicroprotein_1\\tsp|Q08D50.1|\\t83.333\\t108\\t6.70e-59\\t191\\tN/A\\n6\\tmicroprotein_1\\tsp|Q6EIG3.1|\\t75.000\\t108\\t1.34e-52\\t174\\tN/A\\n7\\tmicroprotein_1\\tsp|Q6V0L0.2|\\t57.647\\t85\\t1.29e-24\\t99.4\\tN/A\\n8\\tmicroprotein_1\\tsp|B2RXA7.1|\\t51.724\\t87\\t2.23e-23\\t95.9\\tN/A\\n9\\tmicroprotein_1\\tsp|Q9PUB4.1|\\t42.697\\t89\\t7.89e-18\\t80.5\\tN/A\\n10\\tmicroprotein_1\\tsp|O93323.1|\\t45.349\\t86\\t1.17e-16\\t77.0\\tN/A\\n11\\tmicroprotein_1\\tsp|O43174.2|\\t40.698\\t86\\t2.33e-15\\t73.2\\tN/A\\n12\\tmicroprotein_1\\tsp|O55127.1|\\t40.698\\t86\\t1.31e-14\\t71.2\\tN/A\\n13\\tmicroprotein_1\\tsp|P79739.1|\\t41.860\\t86\\t1.10e-13\\t68.6\\tN/A\\n14\\tmicroprotein_1\\tsp|Q59990.1|\\t34.831\\t89\\t5.43e-10\\t58.2\\tN/A\\n15\\tmicroprotein_1\\tsp|Q9SAA9.1|\\t40.244\\t82\\t6.69e-10\\t57.8\\tN/A\\n16\\tmicroprotein_1\\tsp|Q2MJ21.1|\\t34.568\\t81\\t9.28e-10\\t57.4\\tN/A\\n17\\tmicroprotein_1\\tsp|P93596.1|\\t43.077\\t65\\t1.07e-09\\t57.0\\tN/A\\n18\\tmicroprotein_1\\tsp|P93846.1|\\t41.538\\t65\\t3.93e-09\\t55.5\\tN/A\\n19\\tmicroprotein_1\\tsp|Q2MJ19.1|\\t33.333\\t81\\t9.49e-09\\t54.3\\tN/A\\n20\\tmicroprotein_1\\tsp|A0A517FNC9.1|\\t33.333\\t81\\t1.79e-08\\t53.5\\tN/A'\n"
     ]
    }
   ],
   "source": [
    "passfail, message, result = blastp_service.run_blastp_search(fasta_fpath=Path(\"test_data/test_protein.fasta\"), db_name=\"swissprot\")\n",
    "print(passfail, message, result)"
   ]
  },
  {
   "cell_type": "code",
   "execution_count": 4,
   "id": "c75b5b65",
   "metadata": {},
   "outputs": [
    {
     "name": "stdout",
     "output_type": "stream",
     "text": [
      "microprotein_1\tG3V7X8.1\t100.000\t108\t0\t0\t1\t108\t405\t512\t1.90e-71\t223\n",
      "microprotein_1\tQ811W2.1\t100.000\t108\t0\t0\t1\t108\t405\t512\t2.24e-71\t223\n",
      "microprotein_1\tQ9NR63.1\t100.000\t108\t0\t0\t1\t108\t405\t512\t3.36e-71\t223\n",
      "microprotein_1\tE1BHJ4.1\t98.148\t108\t2\t0\t1\t108\t405\t512\t4.32e-70\t220\n",
      "microprotein_1\tQ08D50.1\t83.333\t108\t18\t0\t1\t108\t404\t511\t6.70e-59\t191\n",
      "microprotein_1\tQ6EIG3.1\t75.000\t108\t27\t0\t1\t108\t404\t511\t1.34e-52\t174\n",
      "microprotein_1\tQ6V0L0.2\t57.647\t85\t32\t2\t8\t89\t428\t511\t1.29e-24\t99.4\n",
      "microprotein_1\tB2RXA7.1\t51.724\t87\t40\t1\t8\t92\t424\t510\t2.23e-23\t95.9\n",
      "microprotein_1\tQ9PUB4.1\t42.697\t89\t49\t2\t1\t89\t402\t488\t7.89e-18\t80.5\n",
      "microprotein_1\tO93323.1\t45.349\t86\t45\t2\t1\t86\t402\t485\t1.17e-16\t77.0\n"
     ]
    }
   ],
   "source": [
    "!blastp -query test_data/test_protein.fasta -db blast_db/swissprot -outfmt 6 -max_target_seqs 10"
   ]
  },
  {
   "cell_type": "code",
   "execution_count": null,
   "id": "03f0e4f4",
   "metadata": {},
   "outputs": [],
   "source": []
  }
 ],
 "metadata": {
  "kernelspec": {
   "display_name": "Python 3",
   "language": "python",
   "name": "python3"
  },
  "language_info": {
   "codemirror_mode": {
    "name": "ipython",
    "version": 3
   },
   "file_extension": ".py",
   "mimetype": "text/x-python",
   "name": "python",
   "nbconvert_exporter": "python",
   "pygments_lexer": "ipython3",
   "version": "3.13.3"
  }
 },
 "nbformat": 4,
 "nbformat_minor": 5
}
